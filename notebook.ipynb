{
 "cells": [
  {
   "cell_type": "code",
   "execution_count": 136,
   "id": "d57f5ab3",
   "metadata": {},
   "outputs": [],
   "source": [
    "from typing import Annotated, Literal,Any\n",
    "from langchain_core.tools import tool\n",
    "from langchain_community.tools.tavily_search import TavilySearchResults\n",
    "from typing_extensions import TypedDict\n",
    "from langgraph.graph import StateGraph,END,START\n",
    "from langchain_core.messages import HumanMessage, AIMessage\n",
    "from langgraph.prebuilt import create_react_agent\n",
    "from langchain_groq import ChatGroq\n",
    "from langgraph.types import Command\n",
    "from langgraph.graph.message import add_messages\n",
    "from langchain.pydantic_v1 import Field\n",
    "from langchain.llms import HuggingFaceEndpoint\n",
    "from langchain_google_genai import ChatGoogleGenerativeAI"
   ]
  },
  {
   "cell_type": "code",
   "execution_count": 137,
   "id": "1e72363e",
   "metadata": {},
   "outputs": [],
   "source": [
    "from dotenv import load_dotenv\n",
    "import os"
   ]
  },
  {
   "cell_type": "code",
   "execution_count": 138,
   "id": "ca0a21b4",
   "metadata": {},
   "outputs": [
    {
     "data": {
      "text/plain": [
       "True"
      ]
     },
     "execution_count": 138,
     "metadata": {},
     "output_type": "execute_result"
    }
   ],
   "source": [
    "load_dotenv()"
   ]
  },
  {
   "cell_type": "code",
   "execution_count": 139,
   "id": "40a4e11d",
   "metadata": {},
   "outputs": [
    {
     "name": "stdout",
     "output_type": "stream",
     "text": [
      "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\n"
     ]
    }
   ],
   "source": [
    "GROQ_API_KEY= os.getenv(\"GROQ_API_KEY\")\n",
    "LANGCHAIN_API_KEY=os.getenv(\"LANGCHAIN_API_KEY\")\n",
    "LANGCHAIN_PROJECT=os.getenv(\"LANGCHAIN_PROJECT\")\n",
    "SERPER_API_KEY=os.getenv(\"SERPER_API_KEY\")\n",
    "GOOGLE_API_KEY=os.getenv(\"GOOGLE_API_KEY\")\n",
    "TAVILY_API_KEY=os.getenv(\"TAVILY_API_KEY\")\n",
    "print(GROQ_API_KEY)\n",
    "os.environ[\"GROQ_API_KEY\"] = \"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\"\n",
    "os.environ[\"GOOGLE_API_KEY\"] = GOOGLE_API_KEY\n",
    "os.environ[\"TAVILY_API_KEY\"] = TAVILY_API_KEY \n",
    "os.environ[\"SERPER_API_KEY\"] = SERPER_API_KEY\n",
    "os.environ[\"LANGCHAIN_API_KEY\"] =  LANGCHAIN_API_KEY\n",
    "os.environ[\"LANGCHAIN_PROJECT\"] = LANGCHAIN_PROJECT"
   ]
  },
  {
   "cell_type": "code",
   "execution_count": 140,
   "id": "5852ce47",
   "metadata": {},
   "outputs": [],
   "source": [
    "architect_model = ChatGroq(model='deepseek-r1-distill-llama-70b')\n",
    "optimizer_model = ChatGroq(model='meta-llama/llama-4-maverick-17b-128e-instruct')\n",
    "critic_model = ChatGroq(model=\"meta-llama/llama-4-maverick-17b-128e-instruct\")\n",
    "requirements_model = ChatGroq(model=\"meta-llama/llama-4-scout-17b-16e-instruct\")\n",
    "arbiter_model = ChatGroq(model=\"meta-llama/llama-4-scout-17b-16e-instruct\")\n"
   ]
  },
  {
   "cell_type": "code",
   "execution_count": 141,
   "id": "14c5191e",
   "metadata": {},
   "outputs": [
    {
     "data": {
      "text/plain": [
       "AIMessage(content='There are 7 days in a week.\\n\\nThe 7 days of the week are:\\n\\n1. Monday\\n2. Tuesday\\n3. Wednesday\\n4. Thursday\\n5. Friday\\n6. Saturday\\n7. Sunday', additional_kwargs={}, response_metadata={'token_usage': {'completion_tokens': 46, 'prompt_tokens': 18, 'total_tokens': 64, 'completion_time': 0.19123909, 'prompt_time': 0.005283489, 'queue_time': 0.213845468, 'total_time': 0.196522579}, 'model_name': 'meta-llama/llama-4-maverick-17b-128e-instruct', 'system_fingerprint': 'fp_fe2a81a060', 'finish_reason': 'stop', 'logprobs': None}, id='run--d91943de-807b-481a-8234-1be893dd6e24-0', usage_metadata={'input_tokens': 18, 'output_tokens': 46, 'total_tokens': 64})"
      ]
     },
     "execution_count": 141,
     "metadata": {},
     "output_type": "execute_result"
    }
   ],
   "source": [
    "critic_model.invoke(\"how many days are there in a week\")"
   ]
  },
  {
   "cell_type": "code",
   "execution_count": null,
   "id": "10488fa2",
   "metadata": {},
   "outputs": [],
   "source": []
  },
  {
   "cell_type": "code",
   "execution_count": 142,
   "id": "4bed3bbe",
   "metadata": {},
   "outputs": [
    {
     "data": {
      "text/plain": [
       "AIMessage(content=\"<think>\\nFirst, I need to determine the number of days in a week.\\n\\nA standard week is commonly understood to have seven days.\\n\\nThese seven days are typically named as follows: Monday, Tuesday, Wednesday, Thursday, Friday, Saturday, and Sunday.\\n\\nTherefore, the total number of days in a week is seven.\\n</think>\\n\\n**Solution:**\\n\\nTo determine how many days are in a week, let's break it down step by step.\\n\\n1. **Understanding the Week:**\\n   - A week is a unit of time commonly used to divide the days of the year into manageable periods.\\n   - It is based on a cycle of seven days.\\n\\n2. **Listing the Days:**\\n   - The seven days of the week are:\\n     1. **Monday**\\n     2. **Tuesday**\\n     3. **Wednesday**\\n     4. **Thursday**\\n     5. **Friday**\\n     6. **Saturday**\\n     7. **Sunday**\\n\\n3. **Counting the Days:**\\n   - By listing them out, we can see that there are **7 days** in total.\\n\\n**Final Answer:**\\n\\\\[\\n\\\\boxed{7}\\n\\\\]\", additional_kwargs={}, response_metadata={'token_usage': {'completion_tokens': 242, 'prompt_tokens': 10, 'total_tokens': 252, 'completion_time': 0.88, 'prompt_time': 0.003649366, 'queue_time': 0.559167325, 'total_time': 0.883649366}, 'model_name': 'deepseek-r1-distill-llama-70b', 'system_fingerprint': 'fp_454c494f52', 'finish_reason': 'stop', 'logprobs': None}, id='run--2c05ddcb-4747-4a87-8a80-437fcb0a40ff-0', usage_metadata={'input_tokens': 10, 'output_tokens': 242, 'total_tokens': 252})"
      ]
     },
     "execution_count": 142,
     "metadata": {},
     "output_type": "execute_result"
    }
   ],
   "source": [
    "architect_model.invoke(\"how many days are in a week\")"
   ]
  },
  {
   "cell_type": "code",
   "execution_count": 143,
   "id": "565567ae",
   "metadata": {},
   "outputs": [],
   "source": [
    "class AgentState(TypedDict):\n",
    "  requirements : str\n",
    "  messages : Annotated[list[Any],add_messages]\n",
    "  next : Literal[\"requirements_node\",\"architect_node\",\"critic_node\",\"optimizer_node\",\"arbiter_node\",\"__end__\"] \n",
    "  architecture : str\n",
    "  criticism : str\n",
    "  optimizer_visits : int\n",
    "  optimization_details : str"
   ]
  },
  {
   "cell_type": "code",
   "execution_count": 144,
   "id": "a22a92a5",
   "metadata": {},
   "outputs": [],
   "source": [
    "class CriticGrade(TypedDict):\n",
    "  critic_score : Literal[\"yes\",\"no\"] = Field(description=\"Used to criticise a software architecture.\"\n",
    "  \" 'yes' if it needs optimization/improvement, 'no' if the current architecture is optimum \")\n",
    "  criticism : str = Field(description=\"Describe the parts where the software architecture needs improvement\")"
   ]
  },
  {
   "cell_type": "code",
   "execution_count": 145,
   "id": "c3bc003d",
   "metadata": {},
   "outputs": [],
   "source": [
    "class SadAgent:\n",
    "  def __init__(self):\n",
    "    self.architect_model = architect_model\n",
    "    self.optimizer_model = optimizer_model\n",
    "    self.arbiter_model = arbiter_model\n",
    "    self.requirements_model = requirements_model\n",
    "    self.critic_model = critic_model\n",
    "\n",
    "  def supervisor_node(self,state : AgentState) -> Command[Literal[\"requirements_node\",\"architect_node\",\"critic_node\",\"optimizer_node\",\"arbiter_node\",\"__end__\"]]:\n",
    "    print(\"****************Entered supervisor****************\")\n",
    "    \n",
    "    \n",
    "    if state['optimizer_visits'] == 3:\n",
    "        \n",
    "        state[\"messages\"].append({\n",
    "            \"role\": \"system\",\n",
    "            \"content\": \"Exceeded maximum optimizer visits. Proceeding to Arbiter.\"\n",
    "        })\n",
    "        optimization_details = \"Skipped Optimatization due to excessive optimization cycles.\"\n",
    "        goto = \"arbiter_node\"\n",
    "\n",
    "        return Command(update={\"optimization_details\":optimization_details,\"next\":goto},goto=goto)\n",
    "    \n",
    "    else:\n",
    "      if len(state['messages']) == 1:\n",
    "        query = state['messages'][0].content\n",
    "        print(query)\n",
    "        state['messages'].append({\n",
    "          \"role\":\"system\",\n",
    "          \"content\":\"Transitioning to requirements engineer to generate the system requirements based on the User's input\"\n",
    "          })\n",
    "        \n",
    "        goto = 'requirements_node'\n",
    "        return Command(update={\"next\":goto},goto=goto)\n",
    "      else:\n",
    "         goto=state['next']\n",
    "         state['messages'].append({\n",
    "            \"role\":\"system\",\n",
    "            \"content\":f\"Transitioning to {state[\"next\"]} to proceed further\"\n",
    "         })\n",
    "         return Command(goto=goto)\n",
    "\n",
    "  def requirements_node(self,state : AgentState) -> Command[Literal[\"supervisor\"]]:\n",
    "     print(\"****************Entered requirements node****************\")\n",
    "     #requirements_agent = create_react_agent(self.llm_model,tools=[], prompt=\"You are a requirements engineer. You are supposed to break down the user's software idea and identify the system requirements. Give accurate, appropriate system requirements\")\n",
    "     \n",
    "     requirements_prompt = \"You are a requirements engineer. You are supposed to break down the user's software idea and identify the system requirements. Give accurate, appropriate system requirements\"\n",
    "     #result = requirements_agent.invoke({\"input\":state['messages'][0].content})\n",
    "\n",
    "     result = self.requirements_model.invoke(f\"{requirements_prompt}\\n\\n{state['messages'][0].content}\")\n",
    "\n",
    "     return Command(\n",
    "        update={\"messages\":state['messages'] + [HumanMessage(content=\"[REQUIREMENTS ENGINEER] System Requirements has been generated by requirements engineer, Transitioning to Architect\",name='requirements_engineer')]\n",
    "                , \"requirements\":result.content,\"next\":\"architect_node\"},goto=\"supervisor\"\n",
    "     )\n",
    "  \n",
    "\n",
    "  def architect_node(self, state : AgentState) -> Command[Literal[\"supervisor\"]]:\n",
    "     print(\"****************Entered architect node****************\")\n",
    "     #architect_agent = create_react_agent(self.llm_model,tools=[],prompt=\"Based on the system requirements, generate a complete,neat, scalable software architecture design along with appropriate frameworks, libraries, deployment options\")\n",
    "     \n",
    "     architect_prompt = \"Based on the system requirements, generate a complete,neat, scalable software architecture design along with appropriate frameworks, libraries, deployment options\"\n",
    "\n",
    "     result = self.architect_model.invoke(f\"{architect_prompt}\\n\\n{state['requirements']}\")\n",
    "\n",
    "     #result = architect_agent.invoke({\"input\":f\"System Requirements : {state['requirements']}\"}) \n",
    "     print(result)\n",
    "     return Command(\n",
    "        update={\"messages\": state['messages'] + [HumanMessage(content=\"[ARCHITECT] Initial Design has been generated by architect, Transitioning to Critic for further evaluation\",name=\"architect\")],\n",
    "                \"architecture\":result.content,\"next\":\"critic_node\"},goto=\"supervisor\"\n",
    "     )\n",
    "\n",
    "  def critic_node(self,state : AgentState) -> Command[Literal[\"supervisor\",\"arbiter_node\"]]:\n",
    "     print(\"****************Entered critic node****************\")\n",
    "     #critic_agent = create_react_agent(self.llm_model.with_structured_output(CriticGrade),tools=[],prompt=\"You are a software architecture critic in a multi-agent system.Your job is to carefully examine a proposed system architecture and identify any flaws, anti-patterns, or weaknesses. These may include violations of software \" \\\n",
    "     #\"design principles, overengineering, security concerns, lack of scalability, or poor modularity.If you find the architecture to be optimal and meets the system requirements, then respond\")\n",
    "\n",
    "     critic_prompt = (\"You are a software architecture critic in a multi-agent system.Your job is to carefully examine a proposed system architecture and identify any flaws, anti-patterns, or weaknesses. These may include violations of software \" \\\n",
    "     \"design principles, overengineering, security concerns, lack of scalability, or poor modularity.If you find the architecture to be optimal and meets the system requirements, then respond\")\n",
    "\n",
    "     result= self.critic_model.with_structured_output(CriticGrade).invoke(f\"{critic_prompt} \\n\\n software architecture: {state['architecture']}\")\n",
    "     #result = critic_agent.invoke({\"input\":f\"Software architecture: {state['architecture']}\"})\n",
    "     \n",
    "     if result['critic_score'] == 'yes':\n",
    "        goto = \"optimizer_node\"\n",
    "        visits = state['optimizer_visits']+1\n",
    "        print(visits)\n",
    "        msg = [HumanMessage(content=\"[CRITIC] Criticism has been generated. Transitioning to Optimizer\",name=\"critic\")]\n",
    "\n",
    "        return Command(\n",
    "        update={\"messages\":state['messages'] + msg,\"next\":goto,'criticism':result['criticism'],'optimizer_visits':visits},goto=\"supervisor\"\n",
    "     )\n",
    "\n",
    "     else:\n",
    "        goto = 'arbiter_node'\n",
    "        msg = [HumanMessage(content=\"[CRITIC] Criticism has been generated. Transitioning to Arbiter\",name=\"critic\")]\n",
    "        return Command(\n",
    "        update={\"messages\":state['messages'] + msg,\"next\":goto,'criticism':result['criticism']},goto=\"arbiter_node\"\n",
    "     )\n",
    "  \n",
    "     \n",
    "  \n",
    "  def optimizer_node(self,state : AgentState) -> Command[Literal[\"supervisor\",\"arbiter_node\"]]:\n",
    "     print(\"****************Entered optimizer node****************\")\n",
    "     print(f\"Optimizer Visits: {state['optimizer_visits']}\")\n",
    "     if state['optimizer_visits'] == 1:\n",
    "        return Command(goto=\"arbiter_node\")\n",
    "     #optimizer_agent = create_react_agent(self.llm_model,tools=[],prompt=\"You are a software architecture optimizer based on the criticism mentioned. Optimize the given architecture keeping the requirements in mind as well.Give only the final software architecture design after optimization\")\n",
    "     \n",
    "     optimizer_prompt = \"You are a software architecture optimizer based on the criticism mentioned. Optimize the given architecture keeping the requirements in mind as well.Give only the final software architecture design after optimization\"\n",
    "     \n",
    "     #result = optimizer_agent.invoke({\"input\":f\"Software Architecture: {state['architecture']}\\n\\n Criticism: {state['criticism']} \\n\\n Requirements: {state['requirements']}\"})\n",
    "\n",
    "     result = self.optimizer_model.invoke(f\"{optimizer_prompt}\\n\\n Software Architecture: {state['architecture']}\\n\\n Requirements: {state['requirements']}\\n\\n Criticism: {state['criticism']}\")\n",
    "     print(result)\n",
    "     return Command(\n",
    "        update={\"messages\":state['messages']+[HumanMessage(content=\"[OPTIMIZER] The architecture has been optimized by the optimzer. Transitioning to the Critic\",name=\"optimizer\")],\"next\":\"critic_node\",\"architecture\":result},goto=\"supervisor\"\n",
    "     )\n",
    "  \n",
    "  \n",
    "  def arbiter_node(self, state: AgentState) -> Command[Literal[\"__end__\"]]:\n",
    "    print(\"****************Entered arbiter node****************\")\n",
    "    #arbiter_agent = create_react_agent(self.llm_model,tools=[], prompt=(\n",
    "     #   \"You are the Arbiter in a multi-agent architecture design system. \"\n",
    "     #   \"Your role is to verify whether the proposed software architecture aligns with the user's business requirements. \"\n",
    "     #  \"Carefully assess if the architecture supports the intended goals, use cases, and constraints. \"\n",
    "     #   \"If the architecture is fine, then don't change it. If not, modify it accordingly.\"\n",
    "    #))\n",
    "\n",
    "    #result = arbiter_agent.invoke({\"input\":f\"Software Architecture: {state['architecture']}\\n\\n Requirements: {state['requirements']}\"})\n",
    "    \n",
    "    sys_prompt =         (\"You are the Arbiter in a multi-agent architecture design system. \"\n",
    "        \"Your role is to verify whether the proposed software architecture aligns with the user's business requirements. \"\n",
    "        \"Carefully assess if the architecture supports the intended goals, use cases, and constraints. \"\n",
    "        \"If the architecture is fine, then don't change it. If not, modify it accordingly.\"\n",
    "        \"Give only the final, complete software architecture design\")\n",
    "\n",
    "    result = self.arbiter_model.invoke(f\"{sys_prompt}\\n\\nSoftware Architecture: {state['architecture']}\\n\\n Requirements: {state['requirements']}\")\n",
    "\n",
    "    msg = [HumanMessage(content=\"[ARBITER] Final decision made. Sending architecture to user.\", name=\"arbiter\")]\n",
    "\n",
    "    return Command(\n",
    "        update={\"architecture\": result.content, \"messages\": state[\"messages\"] + msg,\"next\":\"FINISH\"},\n",
    "        goto=\"__end__\"\n",
    "    )\n",
    "\n",
    "  \n",
    "  def workflow(self):\n",
    "     self.graph = StateGraph(AgentState)\n",
    "     self.graph.add_node(\"architect_node\",self.architect_node)\n",
    "     self.graph.add_node(\"arbiter_node\",self.arbiter_node)\n",
    "     self.graph.add_node(\"optimizer_node\",self.optimizer_node)\n",
    "     self.graph.add_node(\"critic_node\",self.critic_node)\n",
    "     self.graph.add_node(\"requirements_node\",self.requirements_node)\n",
    "     self.graph.add_node(\"supervisor\",self.supervisor_node)\n",
    "     self.graph.add_edge(START,\"supervisor\")\n",
    "\n",
    "     self.app = self.graph.compile()\n",
    "     return self.app\n"
   ]
  },
  {
   "cell_type": "code",
   "execution_count": 146,
   "id": "7db27c03",
   "metadata": {},
   "outputs": [],
   "source": [
    "input = {\n",
    "    \"requirements\":\"\",\n",
    "    \"messages\" : [HumanMessage(content=\"Build an Leave management system for college students. make sure it is scalable and budget friendly\")],\n",
    "  \"next\" : \"requirements_node\",\n",
    "  \"architecture\" : \"\",\n",
    "  \"criticism\" : \"\",\n",
    "  \"optimizer_visits\" : 0,\n",
    "  \"optimization_details\" :\"\"\n",
    "}"
   ]
  },
  {
   "cell_type": "code",
   "execution_count": 147,
   "id": "384ebe9e",
   "metadata": {},
   "outputs": [],
   "source": [
    "agent = SadAgent()"
   ]
  },
  {
   "cell_type": "code",
   "execution_count": 148,
   "id": "0375279a",
   "metadata": {},
   "outputs": [],
   "source": [
    "app_graph = agent.workflow()"
   ]
  },
  {
   "cell_type": "code",
   "execution_count": 149,
   "id": "22563b35",
   "metadata": {},
   "outputs": [
    {
     "name": "stdout",
     "output_type": "stream",
     "text": [
      "****************Entered supervisor****************\n",
      "Build an Leave management system for college students. make sure it is scalable and budget friendly\n",
      "****************Entered requirements node****************\n",
      "****************Entered supervisor****************\n",
      "****************Entered architect node****************\n",
      "content=\"<think>\\nOkay, so I'm trying to design a software architecture for a Leave Management System for college students based on the requirements provided. Let me break this down step by step.\\n\\nFirst, I need to understand the functional requirements. The system needs to handle user registration, leave applications, approval processes, a calendar for leaves, reporting, and notifications. Non-functional requirements include scalability, budget-friendliness, security, usability, and performance. The system should be web-based, responsive, and integrate with existing SIS via APIs. It also needs a solid database schema, data backup, and recovery processes. Hardware-wise, it should run on cloud infrastructure with minimal specs, and the software should use a programming language and frameworks that are cost-effective and scalable.\\n\\nAlright, so I'll start by thinking about the architecture pattern. Microservices seem like a good fit because they allow for scalability and can be developed independently. Each microservice can handle a specific part of the system, like user management, leave applications, approvals, notifications, etc. Using an API gateway makes sense to route requests and handle tasks like authentication and rate limiting.\\n\\nNext, the technology stack. I need to choose a programming language and framework. Since the user mentioned cost-effectiveness and scalability, Python with Django seems like a good choice. It's open-source and has a lot of built-in features that can speed up development. For the frontend, React.js is popular and works well for responsive designs, which is a requirement. Plus, using a UI library like Material-UI can help create an intuitive interface quickly.\\n\\nThe database is another important part. I need something scalable and consistent. PostgreSQL is a solid relational database that supports ACID transactions, which is good for handling things like leave applications without data corruption. For notifications, using a message broker like RabbitMQ can help decouple services and handle async tasks efficiently.\\n\\nConsidering deployment, cloud platforms are a must. AWS, GCP, and Azure all have good services, but since the user mentioned budget-friendliness, maybe AWS or GCP might have more cost-effective options. Using Docker and Kubernetes will help containerize the application and orchestrate it smoothly, ensuring scalability and easy updates.\\n\\nSecurity is a biggie. OAuth 2.0 with JWT can handle authentication and authorization, making sure only authorized users can access certain features. Data encryption both at rest and in transit is crucial, so using HTTPS and encrypting sensitive data in the database is a must. Input validation and sanitization will help prevent common web attacks.\\n\\nFor performance, caching with Redis can reduce the load on the database and speed up response times. Load balancing ensures that no single server is overwhelmed, distributing traffic evenly. Using a CDN can help with static assets, making the site faster for users across different regions.\\n\\nMonitoring and logging are important for maintaining the system. Tools like Prometheus and Grafana can monitor performance and alert if something goes wrong. The ELK stack (Elasticsearch, Logstash, Kibana) can handle logging, making it easier to debug issues.\\n\\nBackup and disaster recovery are necessary to prevent data loss. Automated backups stored in cloud storage can ensure data is safe, and having a disaster recovery plan in place means the system can be restored quickly if something fails.\\n\\nDevOps practices like CI/CD pipelines with Jenkins or GitHub Actions will help automate testing and deployment, making the development process smoother. Infrastructure as code with Terraform can manage cloud resources consistently and repeatably.\\n\\nThe database schema needs to be well thought out. I'll need tables for users, roles, leave types, applications, approvals, and notifications. Each should have the necessary fields to track all required information without being redundant.\\n\\nTesting is another area to consider. Unit, integration, and end-to-end tests will ensure each part of the system works as intended. Performance testing will check if the system can handle the required load, and security testing will identify vulnerabilities.\\n\\nFinally, the user interface needs to be responsive and user-friendly. Using a framework like React with Material-UI can help create a clean and intuitive design that works well on all devices.\\n\\nPutting it all together, the architecture should be modular, scalable, secure, and easy to maintain. Each component should be loosely coupled so that changes in one part don't affect others. This should meet all the functional and non-functional requirements laid out.\\n\\nI might have missed some details, so I should double-check each part. For example, making sure the API gateway can handle rate limiting and authentication properly. Also, ensuring that the database is properly normalized to avoid data redundancy and improve scalability. Testing each microservice thoroughly and ensuring that the system can handle the expected load without performance issues is crucial. Security aspects like regular audits and keeping dependencies updated should also be part of the plan.\\n\\nOverall, the key is to create a system that's not only functional but also efficient, secure, and easy to scale as the user base grows. Using the right technologies and following best practices in software architecture should achieve that.\\n</think>\\n\\n**Final Answer: Software Architecture Design for Leave Management System**\\n\\n**1. Architecture Pattern:**\\n   - **Microservices Architecture:** Adopted for scalability and independent development. Each service handles specific functionalities: User Management, Leave Application, Approval Process, Notifications, and Reporting.\\n\\n**2. Technology Stack:**\\n   - **Backend:** Python with Django Framework for rapid development and scalability.\\n   - **Frontend:** React.js with Material-UI for responsive and intuitive UI.\\n   - **Database:** PostgreSQL for relational data and ACID compliance.\\n   - **Message Broker:** RabbitMQ for asynchronous task handling.\\n   - **API Gateway:** NGINX for routing, authentication, and rate limiting.\\n\\n**3. Deployment Strategy:**\\n   - **Cloud Platform:** AWS or GCP for cost-effective and scalable infrastructure.\\n   - **Containerization:** Docker for containerizing microservices.\\n   - **Orchestration:** Kubernetes for automated deployment and scaling.\\n\\n**4. Security Measures:**\\n   - **Authentication/Authorization:** OAuth 2.0 with JWT.\\n   - **Data Encryption:** HTTPS for data in transit; encryption for sensitive data at rest.\\n   - **Input Validation:** Protection against common web vulnerabilities.\\n\\n**5. Performance Optimization:**\\n   - **Caching:** Redis to reduce database load and improve response times.\\n   - **Load Balancing:** Ensure traffic distribution and prevent server overload.\\n   - **CDN:** For static assets to enhance global accessibility.\\n\\n**6. Monitoring and Logging:**\\n   - **Monitoring:** Prometheus and Grafana for performance tracking.\\n   - **Logging:** ELK Stack for comprehensive log management.\\n\\n**7. Backup and Disaster Recovery:**\\n   - **Automated Backups:** Scheduled backups stored on cloud storage.\\n   - **Disaster Recovery Plan:** Ensures quick system restoration post-failure.\\n\\n**8. DevOps Practices:**\\n   - **CI/CD Pipelines:** Jenkins or GitHub Actions for automated testing and deployment.\\n   - **Infrastructure as Code:** Terraform for consistent resource management.\\n\\n**9. Database Schema:**\\n   - **Tables:** Users, Roles, Leave Types, Applications, Approvals, Notifications.\\n   - **Design:** Normalized structure to avoid redundancy and enhance scalability.\\n\\n**10. Testing Strategy:**\\n   - **Unit, Integration, and E2E Tests:** Ensure functionality and reliability.\\n   - **Performance Testing:** Validate system capacity under expected load.\\n   - **Security Testing:** Identify and mitigate vulnerabilities.\\n\\n**11. User Interface:**\\n   - **Responsive Design:** Ensures accessibility across devices.\\n   - **Intuitive UI:** Clear navigation and user-friendly interaction.\\n\\n**Conclusion:**\\nThe proposed architecture is modular, scalable, and secure, designed to meet all specified requirements. Each component is loosely coupled, allowing for independent scaling and updates. By leveraging modern technologies and best practices, the system ensures efficiency, security, and ease of maintenance.\" additional_kwargs={} response_metadata={'token_usage': {'completion_tokens': 1598, 'prompt_tokens': 954, 'total_tokens': 2552, 'completion_time': 5.810909091, 'prompt_time': 0.152723173, 'queue_time': 0.39345403000000007, 'total_time': 5.963632264}, 'model_name': 'deepseek-r1-distill-llama-70b', 'system_fingerprint': 'fp_454c494f52', 'finish_reason': 'stop', 'logprobs': None} id='run--d52d9135-50b1-4812-b02b-51dc91c5f1ff-0' usage_metadata={'input_tokens': 954, 'output_tokens': 1598, 'total_tokens': 2552}\n",
      "****************Entered supervisor****************\n",
      "****************Entered critic node****************\n",
      "1\n",
      "****************Entered supervisor****************\n",
      "****************Entered optimizer node****************\n",
      "Optimizer Visits: 1\n",
      "****************Entered arbiter node****************\n"
     ]
    },
    {
     "data": {
      "text/plain": [
       "{'requirements': \"As a requirements engineer, I will break down the user's software idea and identify the system requirements for a Leave Management System for college students. Here are the requirements:\\n\\n**Functional Requirements:**\\n\\n1. **User Registration and Profile Management:**\\n\\t* The system should allow college students to register and create a profile with their personal details (name, email, phone number, student ID, etc.).\\n\\t* Students should be able to edit their profile information.\\n2. **Leave Application:**\\n\\t* Students should be able to apply for leaves by selecting the type of leave (e.g., annual, medical, etc.), specifying the leave dates, and providing a reason for the leave.\\n\\t* The system should allow students to attach supporting documents (e.g., medical certificates, etc.) for their leave application.\\n3. **Leave Approval Process:**\\n\\t* The system should enable faculty advisors or department heads to view and approve/reject leave applications.\\n\\t* Approvers should receive notifications for new leave applications and be able to comment on the application.\\n4. **Leave Calendar and Status Tracking:**\\n\\t* The system should display a calendar view of approved leaves for each student.\\n\\t* Students should be able to view the status of their leave applications (e.g., pending, approved, rejected).\\n5. **Reporting and Notifications:**\\n\\t* The system should generate reports on leave usage, student leave history, and departmental leave statistics.\\n\\t* Students and approvers should receive automated notifications for leave application submissions, approvals, and rejections.\\n\\n**Non-Functional Requirements:**\\n\\n1. **Scalability:**\\n\\t* The system should be able to handle an increasing number of users (students and approvers) without significant performance degradation.\\n\\t* The system should support a minimum of 1000 concurrent users.\\n2. **Budget-Friendliness:**\\n\\t* The system should be developed using open-source technologies or cost-effective commercial solutions.\\n\\t* The system should have a low maintenance cost and be easy to update.\\n3. **Security:**\\n\\t* The system should ensure the confidentiality, integrity, and availability of student data.\\n\\t* The system should implement authentication and authorization mechanisms to restrict access to authorized users.\\n4. **Usability:**\\n\\t* The system should have an intuitive and user-friendly interface for students and approvers.\\n\\t* The system should be accessible on various devices (desktops, laptops, tablets, and mobile phones).\\n5. **Performance:**\\n\\t* The system should respond to user queries within 2 seconds.\\n\\t* The system should be able to process leave applications and updates in real-time.\\n\\n**Interface Requirements:**\\n\\n1. **User Interface:**\\n\\t* The system should have a web-based interface for students and approvers.\\n\\t* The interface should be responsive and compatible with various browsers (Google Chrome, Mozilla Firefox, Safari, etc.).\\n2. **API Integration:**\\n\\t* The system should have APIs for integrating with existing student information systems (SIS) or student record systems.\\n\\n**Data Requirements:**\\n\\n1. **Database Schema:**\\n\\t* The system should have a database schema to store student information, leave applications, and leave history.\\n\\t* The database should be designed for scalability and data consistency.\\n2. **Data Backup and Recovery:**\\n\\t* The system should have a regular data backup and recovery process to ensure data integrity and availability.\\n\\n**System Requirements:**\\n\\n1. **Hardware Requirements:**\\n\\t* The system should be deployable on a cloud-based infrastructure (e.g., AWS, Google Cloud, Microsoft Azure).\\n\\t* The system should be able to run on a minimum of 2 CPU cores and 4 GB RAM.\\n2. **Software Requirements:**\\n\\t* The system should be developed using a programming language (e.g., Python, Java, JavaScript).\\n\\t* The system should use a web framework (e.g., Django, Spring Boot, React).\\n\\t* The system should utilize a database management system (e.g., MySQL, PostgreSQL, MongoDB).\\n\\n**Assumptions and Dependencies:**\\n\\n1. **Existing Infrastructure:**\\n\\t* The college has an existing student information system (SIS) or student record system.\\n\\t* The college has a reliable internet connection and necessary infrastructure for hosting the system.\\n2. **Technical Expertise:**\\n\\t* The college has technical staff with expertise in software development, deployment, and maintenance.\\n\\nBy capturing these requirements, we can develop a Leave Management System that is scalable, budget-friendly, and meets the needs of college students and faculty advisors.\",\n",
       " 'messages': [HumanMessage(content='Build an Leave management system for college students. make sure it is scalable and budget friendly', additional_kwargs={}, response_metadata={}, id='919c9c80-80fa-4731-aeb6-8f72b3967216'),\n",
       "  SystemMessage(content=\"Transitioning to requirements engineer to generate the system requirements based on the User's input\", additional_kwargs={}, response_metadata={}, id='ad720648-1067-4298-93d4-b732a64d9097'),\n",
       "  SystemMessage(content=\"Transitioning to requirements engineer to generate the system requirements based on the User's input\", additional_kwargs={}, response_metadata={}, id='8338429a-e9d0-4e29-a660-2478804f080d'),\n",
       "  HumanMessage(content='[REQUIREMENTS ENGINEER] System Requirements has been generated by requirements engineer, Transitioning to Architect', additional_kwargs={}, response_metadata={}, name='requirements_engineer', id='07717067-e0bf-45ac-8ea7-1bae46e3f228'),\n",
       "  SystemMessage(content='Transitioning to architect_node to proceed further', additional_kwargs={}, response_metadata={}, id='dc4ea321-8daf-49fa-b806-fe6127c933df'),\n",
       "  SystemMessage(content='Transitioning to architect_node to proceed further', additional_kwargs={}, response_metadata={}, id='2d370fce-4738-404e-b2f6-ccd64d6be9f6'),\n",
       "  HumanMessage(content='[ARCHITECT] Initial Design has been generated by architect, Transitioning to Critic for further evaluation', additional_kwargs={}, response_metadata={}, name='architect', id='c7513d92-cdab-46d5-aed3-f1398141913e'),\n",
       "  SystemMessage(content='Transitioning to critic_node to proceed further', additional_kwargs={}, response_metadata={}, id='8a4ec868-d2b1-424a-9aa8-e7eb4231e7d4'),\n",
       "  SystemMessage(content='Transitioning to critic_node to proceed further', additional_kwargs={}, response_metadata={}, id='5cab20d2-246d-4eaa-8a07-6d0ae4884416'),\n",
       "  HumanMessage(content='[CRITIC] Criticism has been generated. Transitioning to Optimizer', additional_kwargs={}, response_metadata={}, name='critic', id='b3d31330-2c39-4b12-b39f-ada75d54958c'),\n",
       "  SystemMessage(content='Transitioning to optimizer_node to proceed further', additional_kwargs={}, response_metadata={}, id='d79bd753-f05e-4841-8536-0c1620742caa'),\n",
       "  SystemMessage(content='Transitioning to optimizer_node to proceed further', additional_kwargs={}, response_metadata={}, id='bab4d01d-8f60-47fd-b81d-4fb7e728c25a'),\n",
       "  HumanMessage(content='[ARBITER] Final decision made. Sending architecture to user.', additional_kwargs={}, response_metadata={}, name='arbiter', id='25caa57e-7809-4210-b807-cd424508ced0')],\n",
       " 'next': 'FINISH',\n",
       " 'architecture': '**Final Software Architecture Design for Leave Management System**\\n\\n### Overview\\n\\nThe proposed software architecture for the Leave Management System is designed to meet the functional and non-functional requirements specified. The architecture is modular, scalable, secure, and easy to maintain.\\n\\n### Architecture Pattern\\n\\n* **Microservices Architecture:** The system consists of multiple microservices, each handling a specific functionality:\\n\\t+ User Management Service\\n\\t+ Leave Application Service\\n\\t+ Approval Service\\n\\t+ Notification Service\\n\\t+ Reporting Service\\n\\n### Technology Stack\\n\\n* **Backend:** Python with Django Framework\\n* **Frontend:** React.js with Material-UI\\n* **Database:** PostgreSQL\\n* **Message Broker:** RabbitMQ\\n* **API Gateway:** NGINX\\n\\n### Deployment Strategy\\n\\n* **Cloud Platform:** AWS\\n* **Containerization:** Docker\\n* **Orchestration:** Kubernetes\\n\\n### Security Measures\\n\\n* **Authentication/Authorization:** OAuth2.0 with JWT\\n* **Data Encryption:** HTTPS for data in transit; encryption for sensitive data at rest\\n* **Input Validation:** Protection against common web vulnerabilities\\n\\n### Performance Optimization\\n\\n* **Caching:** Redis\\n* **Load Balancing:** Ensure traffic distribution and prevent server overload\\n* **CDN:** For static assets to enhance global accessibility\\n\\n### Monitoring and Logging\\n\\n* **Monitoring:** Prometheus and Grafana\\n* **Logging:** ELK Stack\\n\\n### Backup and Disaster Recovery\\n\\n* **Automated Backups:** Scheduled backups stored on cloud storage\\n* **Disaster Recovery Plan:** Ensures quick system restoration post-failure\\n\\n### DevOps Practices\\n\\n* **CI/CD Pipelines:** Jenkins or GitHub Actions\\n* **Infrastructure as Code:** Terraform\\n\\n### Database Schema\\n\\n* **Tables:** Users, Roles, Leave Types, Applications, Approvals, Notifications\\n* **Design:** Normalized structure to avoid redundancy and enhance scalability\\n\\n### System Components\\n\\n#### 1. User Management Service\\n\\n* Handles user registration and profile management\\n* Implemented using Python with Django Framework\\n\\n#### 2. Leave Application Service\\n\\n* Handles leave applications and supporting documents\\n* Implemented using Python with Django Framework\\n\\n#### 3. Approval Service\\n\\n* Handles leave approvals and rejections\\n* Implemented using Python with Django Framework\\n\\n#### 4. Notification Service\\n\\n* Handles automated notifications for leave applications and approvals\\n* Implemented using RabbitMQ and Python\\n\\n#### 5. Reporting Service\\n\\n* Generates reports on leave usage and student leave history\\n* Implemented using Python with Django Framework\\n\\n### API Endpoints\\n\\n* **User Management Service:**\\n\\t+ `POST /users/register`\\n\\t+ `GET /users/{user_id}`\\n\\t+ `PUT /users/{user_id}`\\n* **Leave Application Service:**\\n\\t+ `POST /leave-applications`\\n\\t+ `GET /leave-applications/{application_id}`\\n\\t+ `PUT /leave-applications/{application_id}`\\n* **Approval Service:**\\n\\t+ `POST /approvals`\\n\\t+ `GET /approvals/{approval_id}`\\n\\t+ `PUT /approvals/{approval_id}`\\n\\n### Infrastructure\\n\\n* **Cloud Infrastructure:** AWS\\n* **Virtual Machines:** 2 CPU cores, 4 GB RAM\\n* **Database:** PostgreSQL\\n\\n### Scalability\\n\\n* **Horizontal Scaling:** Add more virtual machines as needed\\n* **Vertical Scaling:** Increase resources (CPU, RAM) for each virtual machine\\n\\n### Security\\n\\n* **Authentication:** OAuth2.0 with JWT\\n* **Authorization:** Role-based access control\\n* **Data Encryption:** HTTPS for data in transit; encryption for sensitive data at rest\\n\\n### Backup and Recovery\\n\\n* **Automated Backups:** Daily backups stored on cloud storage\\n* **Disaster Recovery Plan:** Ensures quick system restoration post-failure\\n\\n### Monitoring and Logging\\n\\n* **Monitoring:** Prometheus and Grafana\\n* **Logging:** ELK Stack\\n\\nThis software architecture design meets the requirements specified and provides a scalable, secure, and maintainable system for managing leaves for college students.',\n",
       " 'criticism': \"The proposed architecture for the Leave Management System is comprehensive and well-structured, effectively addressing both functional and non-functional requirements. The use of microservices architecture, Python with Django, and React.js with Material-UI is appropriate for scalability, responsiveness, and usability. The inclusion of PostgreSQL, RabbitMQ, and Redis ensures robust data handling and performance optimization. Security measures such as OAuth2.0 with JWT and data encryption are commendable. The deployment strategy using Docker, Kubernetes, and cloud platforms (AWS/GCP) is suitable for scalability and cost-effectiveness. The emphasis on monitoring, logging, backup, and disaster recovery, along with DevOps practices like CI/CD pipelines and infrastructure as code, demonstrates a thorough approach to system maintenance and reliability. The database schema design and testing strategy further enhance the system's robustness. Overall, the architecture is well-designed, meeting the requirements for a modern, efficient, and secure Leave Management System.\",\n",
       " 'optimizer_visits': 1,\n",
       " 'optimization_details': ''}"
      ]
     },
     "execution_count": 149,
     "metadata": {},
     "output_type": "execute_result"
    }
   ],
   "source": [
    "app_graph.invoke(input)"
   ]
  },
  {
   "cell_type": "code",
   "execution_count": 158,
   "id": "0335cc5f",
   "metadata": {},
   "outputs": [
    {
     "name": "stdout",
     "output_type": "stream",
     "text": [
      "✅ Diagram generated: example.png\n"
     ]
    }
   ],
   "source": [
    "import subprocess\n",
    "\n",
    "# Save UML code to file\n",
    "uml_code = \"\"\"\n",
    "@startuml\n",
    "Alice -> Bob: Hello\n",
    "Bob --> Alice: Hi!\n",
    "@enduml\n",
    "\"\"\"\n",
    "\n",
    "with open(\"example.puml\", \"w\") as f:\n",
    "    f.write(uml_code)\n",
    "\n",
    "jar_path = \"./plantuml-1.2025.2.jar\"\n",
    "java_path = \"C:/Program Files/Java/jdk-21/bin/java.exe\"\n",
    "# Run PlantUML JAR to generate the diagram\n",
    "# Make sure plantuml.jar is in the same directory or give full path\n",
    "subprocess.run([java_path, \"-jar\", jar_path, \"C:/Users/thede/OneDrive/Desktop/ete_backend/example.puml\"], check=True)\n",
    "\n",
    "print(\"✅ Diagram generated: example.png\")\n"
   ]
  },
  {
   "cell_type": "code",
   "execution_count": null,
   "id": "74ef6756",
   "metadata": {},
   "outputs": [],
   "source": []
  }
 ],
 "metadata": {
  "kernelspec": {
   "display_name": "venv",
   "language": "python",
   "name": "python3"
  },
  "language_info": {
   "codemirror_mode": {
    "name": "ipython",
    "version": 3
   },
   "file_extension": ".py",
   "mimetype": "text/x-python",
   "name": "python",
   "nbconvert_exporter": "python",
   "pygments_lexer": "ipython3",
   "version": "3.12.7"
  }
 },
 "nbformat": 4,
 "nbformat_minor": 5
}
